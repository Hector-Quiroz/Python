{
 "cells": [
  {
   "cell_type": "markdown",
   "id": "a760659f-d793-4d77-9aed-94a497e6e4bc",
   "metadata": {},
   "source": [
    "# Data Scraping: Mayores Compañias de USA"
   ]
  },
  {
   "cell_type": "markdown",
   "id": "cbfc0712-5965-4739-bf2d-581050e5ed94",
   "metadata": {},
   "source": [
    "## Las compañias con mayores ganancias en los Estados Unidos"
   ]
  },
  {
   "cell_type": "markdown",
   "id": "7b1dd3f5-4a63-4cbc-b8ae-1fe84fdfc9ad",
   "metadata": {},
   "source": [
    "Importamos las bibliotecas"
   ]
  },
  {
   "cell_type": "code",
   "execution_count": 18,
   "id": "adcb74e8-8678-48ad-a999-28697c3c1b95",
   "metadata": {},
   "outputs": [],
   "source": [
    "from bs4 import BeautifulSoup\n",
    "import requests\n",
    "import pandas as pd\n",
    "import matplotlib.pyplot as plt\n",
    "import seaborn as sns"
   ]
  },
  {
   "cell_type": "markdown",
   "id": "709aa4ff-bd82-40ec-9525-37a7fb4dc422",
   "metadata": {},
   "source": [
    "1. Declaramos la fuente de datos\n",
    "2. Obtenemos el codigo fuente con el método `get()` de `requests`\n",
    "3. Creamos una instancia tipo `BeautifulSoup`"
   ]
  },
  {
   "cell_type": "code",
   "execution_count": 19,
   "id": "26b3b1c9-c8d9-4218-b639-53e667db66e5",
   "metadata": {},
   "outputs": [],
   "source": [
    "url = 'https://en.wikipedia.org/wiki/List_of_largest_companies_in_the_United_States_by_revenue'\n",
    "page = requests.get(url)\n",
    "soup = BeautifulSoup(page.text, 'html')"
   ]
  },
  {
   "cell_type": "markdown",
   "id": "b2112915-a51e-42d6-9d0b-7f38f0a885cd",
   "metadata": {},
   "source": [
    "La página de Wikipedia contiene diversas tablas, como;\n",
    "1. List of the largest companies\n",
    "2. List of largest private companies\n",
    "3. List of companies by profit\n",
    "\n",
    "Esto supone un problema puesto que todas las tablas comparten una *clase HTML* llamada `wikitable sortable` por lo que el mejor acercamiento es indexar los elementos HTML y tomar el primero, puesto que, corresponde a la primer tabla."
   ]
  },
  {
   "cell_type": "code",
   "execution_count": 20,
   "id": "daaf7755-a145-4df0-a473-2840a49084bb",
   "metadata": {},
   "outputs": [],
   "source": [
    "largest_companies = soup.find_all('table', class_ = 'wikitable sortable')[0]"
   ]
  },
  {
   "cell_type": "markdown",
   "id": "2032114d-a93e-4ed4-b05c-a4d6762d2e77",
   "metadata": {},
   "source": [
    "Ahora toca obtener los encabezados de las tablas, para ello iterare sobre los elementos `th` utilizando compresion de listas para tomar el atributo `text` de cada uno de los elementos de la colección."
   ]
  },
  {
   "cell_type": "code",
   "execution_count": 21,
   "id": "43349235-800a-4ba2-abdc-7990a1d8b473",
   "metadata": {},
   "outputs": [],
   "source": [
    "world_titles = largest_companies.find_all('th')"
   ]
  },
  {
   "cell_type": "markdown",
   "id": "622dabc8-f86d-41a4-8b07-f902451b96f2",
   "metadata": {},
   "source": [
    "Utilizo el método `strip()` para limpiar *\\n* de cada elemento de la lista"
   ]
  },
  {
   "cell_type": "code",
   "execution_count": 22,
   "id": "22f88aa3-9049-4ade-aa02-4cb809a32374",
   "metadata": {},
   "outputs": [],
   "source": [
    "world_table_titles = [title.text.strip() for title in world_titles]"
   ]
  },
  {
   "cell_type": "markdown",
   "id": "71113388-6bbd-41b1-867d-f1c9b6964b1c",
   "metadata": {},
   "source": [
    "Declaro el Dataframe, y especifico los encabezados con la lista `world_tables_titles`"
   ]
  },
  {
   "cell_type": "code",
   "execution_count": 23,
   "id": "98df0e4b-4e96-4d92-8b4b-e8081efee4d9",
   "metadata": {},
   "outputs": [],
   "source": [
    "df = pd.DataFrame(columns = world_table_titles)"
   ]
  },
  {
   "cell_type": "markdown",
   "id": "3d0cea0f-4365-42d2-8b7b-68eb66588b58",
   "metadata": {},
   "source": [
    "Creamos una lista con todos los elementos `tr`"
   ]
  },
  {
   "cell_type": "code",
   "execution_count": 24,
   "id": "8c67d5c3-e5a9-460b-ab53-75291493d483",
   "metadata": {},
   "outputs": [],
   "source": [
    "columna_datos = largest_companies.find_all('tr')"
   ]
  },
  {
   "cell_type": "markdown",
   "id": "e6027ced-8889-4d4e-beaf-41acc2c9b101",
   "metadata": {},
   "source": [
    "Iteramos sobre todos los `tr` de nuestra coleccion *columna_datos* realizando las siguientes operaciones:\n",
    "1. Por cada `tr` obtenemos `td`\n",
    "2. Con una *compresión de lista* obtenemos el atributo `text` y lo limpiamos con `strip()` (justo como arriba)\n",
    "3. Obtenemos la ultima longitud con `len()`\n",
    "4. Con el método `loc()` insertamos la fila anteriormente filtrada en la ultima fila gracias a `longitud`"
   ]
  },
  {
   "cell_type": "code",
   "execution_count": 25,
   "id": "884d8044-3374-4356-91d1-ee4f4c339956",
   "metadata": {},
   "outputs": [],
   "source": [
    "for fila in columna_datos[1:]:\n",
    "    fila_datos = fila.find_all('td')\n",
    "    fila_datos_individual = [fila.text.strip() for fila in fila_datos]\n",
    "\n",
    "    longitud = len(df)\n",
    "    df.loc[longitud] = fila_datos_individual"
   ]
  },
  {
   "cell_type": "markdown",
   "id": "893bef73-17c0-4dc5-a361-429c62019d77",
   "metadata": {},
   "source": [
    "Exporto el DataFrame como un fichero tipo CSV"
   ]
  },
  {
   "cell_type": "code",
   "execution_count": 26,
   "id": "333a5853-ad77-4d9d-9653-8bc9a49581a5",
   "metadata": {},
   "outputs": [],
   "source": [
    "# df.to_csv(r'C:\\Users\\<usuario>\\Documents\\Python\\CompañiasUSA\\Salida\\CompañiasUSA.csv', index = False) Reemplazar `usuario`"
   ]
  },
  {
   "cell_type": "code",
   "execution_count": 27,
   "id": "bae87422-f4b5-4bf1-8c34-21fd25648e4e",
   "metadata": {},
   "outputs": [
    {
     "data": {
      "text/html": [
       "<div>\n",
       "<style scoped>\n",
       "    .dataframe tbody tr th:only-of-type {\n",
       "        vertical-align: middle;\n",
       "    }\n",
       "\n",
       "    .dataframe tbody tr th {\n",
       "        vertical-align: top;\n",
       "    }\n",
       "\n",
       "    .dataframe thead th {\n",
       "        text-align: right;\n",
       "    }\n",
       "</style>\n",
       "<table border=\"1\" class=\"dataframe\">\n",
       "  <thead>\n",
       "    <tr style=\"text-align: right;\">\n",
       "      <th></th>\n",
       "      <th>Rank</th>\n",
       "      <th>Name</th>\n",
       "      <th>Industry</th>\n",
       "      <th>Revenue (USD millions)</th>\n",
       "      <th>Revenue growth</th>\n",
       "      <th>Employees</th>\n",
       "      <th>Headquarters</th>\n",
       "    </tr>\n",
       "  </thead>\n",
       "  <tbody>\n",
       "    <tr>\n",
       "      <th>0</th>\n",
       "      <td>1</td>\n",
       "      <td>Walmart</td>\n",
       "      <td>Retail</td>\n",
       "      <td>611,289</td>\n",
       "      <td>6.7%</td>\n",
       "      <td>2,100,000</td>\n",
       "      <td>Bentonville, Arkansas</td>\n",
       "    </tr>\n",
       "    <tr>\n",
       "      <th>1</th>\n",
       "      <td>2</td>\n",
       "      <td>Amazon</td>\n",
       "      <td>Retail and cloud computing</td>\n",
       "      <td>513,983</td>\n",
       "      <td>9.4%</td>\n",
       "      <td>1,540,000</td>\n",
       "      <td>Seattle, Washington</td>\n",
       "    </tr>\n",
       "    <tr>\n",
       "      <th>2</th>\n",
       "      <td>3</td>\n",
       "      <td>ExxonMobil</td>\n",
       "      <td>Petroleum industry</td>\n",
       "      <td>413,680</td>\n",
       "      <td>44.8%</td>\n",
       "      <td>62,000</td>\n",
       "      <td>Spring, Texas</td>\n",
       "    </tr>\n",
       "    <tr>\n",
       "      <th>3</th>\n",
       "      <td>4</td>\n",
       "      <td>Apple</td>\n",
       "      <td>Electronics industry</td>\n",
       "      <td>394,328</td>\n",
       "      <td>7.8%</td>\n",
       "      <td>164,000</td>\n",
       "      <td>Cupertino, California</td>\n",
       "    </tr>\n",
       "    <tr>\n",
       "      <th>4</th>\n",
       "      <td>5</td>\n",
       "      <td>UnitedHealth Group</td>\n",
       "      <td>Healthcare</td>\n",
       "      <td>324,162</td>\n",
       "      <td>12.7%</td>\n",
       "      <td>400,000</td>\n",
       "      <td>Minnetonka, Minnesota</td>\n",
       "    </tr>\n",
       "    <tr>\n",
       "      <th>...</th>\n",
       "      <td>...</td>\n",
       "      <td>...</td>\n",
       "      <td>...</td>\n",
       "      <td>...</td>\n",
       "      <td>...</td>\n",
       "      <td>...</td>\n",
       "      <td>...</td>\n",
       "    </tr>\n",
       "    <tr>\n",
       "      <th>95</th>\n",
       "      <td>96</td>\n",
       "      <td>Best Buy</td>\n",
       "      <td>Retail</td>\n",
       "      <td>46,298</td>\n",
       "      <td>10.6%</td>\n",
       "      <td>71,100</td>\n",
       "      <td>Richfield, Minnesota</td>\n",
       "    </tr>\n",
       "    <tr>\n",
       "      <th>96</th>\n",
       "      <td>97</td>\n",
       "      <td>Bristol-Myers Squibb</td>\n",
       "      <td>Pharmaceutical industry</td>\n",
       "      <td>46,159</td>\n",
       "      <td>0.5%</td>\n",
       "      <td>34,300</td>\n",
       "      <td>New York City, New York</td>\n",
       "    </tr>\n",
       "    <tr>\n",
       "      <th>97</th>\n",
       "      <td>98</td>\n",
       "      <td>United Airlines</td>\n",
       "      <td>Airline</td>\n",
       "      <td>44,955</td>\n",
       "      <td>82.5%</td>\n",
       "      <td>92,795</td>\n",
       "      <td>Chicago, Illinois</td>\n",
       "    </tr>\n",
       "    <tr>\n",
       "      <th>98</th>\n",
       "      <td>99</td>\n",
       "      <td>Thermo Fisher Scientific</td>\n",
       "      <td>Laboratory instruments</td>\n",
       "      <td>44,915</td>\n",
       "      <td>14.5%</td>\n",
       "      <td>130,000</td>\n",
       "      <td>Waltham, Massachusetts</td>\n",
       "    </tr>\n",
       "    <tr>\n",
       "      <th>99</th>\n",
       "      <td>100</td>\n",
       "      <td>Qualcomm</td>\n",
       "      <td>Technology</td>\n",
       "      <td>44,200</td>\n",
       "      <td>31.7%</td>\n",
       "      <td>51,000</td>\n",
       "      <td>San Diego, California</td>\n",
       "    </tr>\n",
       "  </tbody>\n",
       "</table>\n",
       "<p>100 rows × 7 columns</p>\n",
       "</div>"
      ],
      "text/plain": [
       "   Rank                      Name                    Industry  \\\n",
       "0     1                   Walmart                      Retail   \n",
       "1     2                    Amazon  Retail and cloud computing   \n",
       "2     3                ExxonMobil          Petroleum industry   \n",
       "3     4                     Apple        Electronics industry   \n",
       "4     5        UnitedHealth Group                  Healthcare   \n",
       "..  ...                       ...                         ...   \n",
       "95   96                  Best Buy                      Retail   \n",
       "96   97      Bristol-Myers Squibb     Pharmaceutical industry   \n",
       "97   98           United Airlines                     Airline   \n",
       "98   99  Thermo Fisher Scientific      Laboratory instruments   \n",
       "99  100                  Qualcomm                  Technology   \n",
       "\n",
       "   Revenue (USD millions) Revenue growth  Employees             Headquarters  \n",
       "0                 611,289           6.7%  2,100,000    Bentonville, Arkansas  \n",
       "1                 513,983           9.4%  1,540,000      Seattle, Washington  \n",
       "2                 413,680          44.8%     62,000            Spring, Texas  \n",
       "3                 394,328           7.8%    164,000    Cupertino, California  \n",
       "4                 324,162          12.7%    400,000    Minnetonka, Minnesota  \n",
       "..                    ...            ...        ...                      ...  \n",
       "95                 46,298          10.6%     71,100     Richfield, Minnesota  \n",
       "96                 46,159           0.5%     34,300  New York City, New York  \n",
       "97                 44,955          82.5%     92,795        Chicago, Illinois  \n",
       "98                 44,915          14.5%    130,000   Waltham, Massachusetts  \n",
       "99                 44,200          31.7%     51,000    San Diego, California  \n",
       "\n",
       "[100 rows x 7 columns]"
      ]
     },
     "execution_count": 27,
     "metadata": {},
     "output_type": "execute_result"
    }
   ],
   "source": [
    "df"
   ]
  },
  {
   "cell_type": "markdown",
   "id": "cb895de2-be22-4367-b91d-62993b7cab2b",
   "metadata": {},
   "source": [
    "#### Realizado por Héctor Rodrigo Quiroz García"
   ]
  }
 ],
 "metadata": {
  "kernelspec": {
   "display_name": "Python 3 (ipykernel)",
   "language": "python",
   "name": "python3"
  },
  "language_info": {
   "codemirror_mode": {
    "name": "ipython",
    "version": 3
   },
   "file_extension": ".py",
   "mimetype": "text/x-python",
   "name": "python",
   "nbconvert_exporter": "python",
   "pygments_lexer": "ipython3",
   "version": "3.11.5"
  }
 },
 "nbformat": 4,
 "nbformat_minor": 5
}
